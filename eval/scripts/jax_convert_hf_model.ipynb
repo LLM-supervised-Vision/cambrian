{
 "cells": [
  {
   "cell_type": "markdown",
   "metadata": {},
   "source": [
    "# Convert JAX npz to safetensors"
   ]
  },
  {
   "cell_type": "code",
   "execution_count": 1,
   "metadata": {},
   "outputs": [
    {
     "name": "stderr",
     "output_type": "stream",
     "text": [
      "/data/austin/miniconda3/envs/jax/lib/python3.10/site-packages/tqdm/auto.py:21: TqdmWarning: IProgress not found. Please update jupyter and ipywidgets. See https://ipywidgets.readthedocs.io/en/stable/user_install.html\n",
      "  from .autonotebook import tqdm as notebook_tqdm\n"
     ]
    }
   ],
   "source": [
    "import os\n",
    "import json\n",
    "import torch\n",
    "import argparse\n",
    "import numpy as np\n",
    "from huggingface_hub import login\n",
    "import os\n",
    "hf_token = os.getenv('HF_TOKEN')\n",
    "login(token=hf_token)\n",
    "import transformers\n",
    "\n",
    "import struct\n",
    "def convert_void_array(arr):\n",
    "    \"\"\"Convert void array to float32.\"\"\"\n",
    "    # Convert void array to bytes\n",
    "    flat_bytes = arr.tobytes()\n",
    "    # Interpret each 2-byte chunk as a bfloat16\n",
    "    num_elements = len(flat_bytes) // 2\n",
    "    floats = []\n",
    "    \n",
    "    for i in range(num_elements):\n",
    "        # Extract 2 bytes and convert to float32\n",
    "        two_bytes = flat_bytes[i*2:(i+1)*2]\n",
    "        # Pad to 4 bytes (float32)\n",
    "        padded = two_bytes + b'\\x00\\x00'\n",
    "        # Convert to float32\n",
    "        val = struct.unpack('f', padded)[0]\n",
    "        floats.append(val)\n",
    "    \n",
    "    # Reshape to original shape\n",
    "    return np.array(floats, dtype=np.float32).reshape(arr.shape)\n",
    "\n",
    "\n",
    "jax_ckpt = \"/data/austin/jax_ckpts\"\n",
    "output_dir = \"/data/austin/jax_ckpts\"\n",
    "model_id = \"google/paligemma-3b-pt-224\"\n",
    "args = argparse.Namespace(\n",
    "    jax_ckpt=jax_ckpt,\n",
    "\toutput_dir=output_dir,\n",
    "\tmodel_id=model_id,\n",
    ")"
   ]
  },
  {
   "cell_type": "code",
   "execution_count": 4,
   "metadata": {},
   "outputs": [
    {
     "name": "stdout",
     "output_type": "stream",
     "text": [
      "Loading JAX checkpoint from /data/austin/jax_ckpts\n",
      "Converting JAX checkpoint dtype to float32\n",
      "Converting vision_tower.vision_model.embeddings.position_embedding.weight from |V2 to float32\n",
      "Verifying all params are float32\n"
     ]
    }
   ],
   "source": [
    "print(f\"Loading JAX checkpoint from {args.jax_ckpt}\")\n",
    "npz_path = os.path.join(args.jax_ckpt,\"hf_state_dict.npz\")\n",
    "np_file = np.load(npz_path)\n",
    "\n",
    "print(f\"Converting JAX checkpoint dtype to float32\")\n",
    "params = {}\n",
    "for k, v in np_file.items():\n",
    "\tif v.dtype == np.dtype('|V2'):\n",
    "\t\tprint(f\"Converting {k} from |V2 to float32\")\n",
    "\t\tparams[k] = torch.tensor(convert_void_array(v))\n",
    "\telse:\n",
    "\t\tparams[k] = torch.tensor(v)\n",
    "\n",
    "# check params\n",
    "print(f\"Verifying all params are float32\")\n",
    "for k, v in params.items():\n",
    "\tif v.dtype != torch.float32:\n",
    "\t\tprint(k, v.dtype)"
   ]
  },
  {
   "cell_type": "code",
   "execution_count": 5,
   "metadata": {},
   "outputs": [
    {
     "name": "stdout",
     "output_type": "stream",
     "text": [
      "Loading config from /data/austin/jax_ckpts/hf_config.json\n",
      "Loaded model from config: PaliGemmaConfig {\n",
      "  \"_attn_implementation_autoset\": true,\n",
      "  \"_name_or_path\": \"google/paligemma-3b-pt-224\",\n",
      "  \"_vocab_size\": 257216,\n",
      "  \"architectures\": [\n",
      "    \"PaliGemmaForConditionalGeneration\"\n",
      "  ],\n",
      "  \"bos_token_id\": 2,\n",
      "  \"eos_token_id\": 1,\n",
      "  \"hidden_size\": 2048,\n",
      "  \"image_token_index\": 256127,\n",
      "  \"model_type\": \"paligemma\",\n",
      "  \"pad_token_id\": 0,\n",
      "  \"projection_dim\": 2048,\n",
      "  \"text_config\": {\n",
      "    \"hidden_size\": 2048,\n",
      "    \"intermediate_size\": 16384,\n",
      "    \"model_type\": \"gemma\",\n",
      "    \"num_attention_heads\": 8,\n",
      "    \"num_hidden_layers\": 18,\n",
      "    \"num_image_tokens\": 196,\n",
      "    \"num_key_value_heads\": 1,\n",
      "    \"torch_dtype\": \"float32\",\n",
      "    \"vocab_size\": 256128\n",
      "  },\n",
      "  \"torch_dtype\": \"float32\",\n",
      "  \"transformers_version\": \"4.48.1\",\n",
      "  \"vision_config\": {\n",
      "    \"hidden_size\": 768,\n",
      "    \"intermediate_size\": 3072,\n",
      "    \"model_type\": \"siglip_vision_model\",\n",
      "    \"num_attention_heads\": 12,\n",
      "    \"num_hidden_layers\": 12,\n",
      "    \"num_image_tokens\": 196,\n",
      "    \"patch_size\": 16,\n",
      "    \"projection_dim\": 2048,\n",
      "    \"projector_hidden_act\": \"gelu_fast\",\n",
      "    \"vision_use_head\": false\n",
      "  }\n",
      "}\n",
      "\n"
     ]
    }
   ],
   "source": [
    "# Load config and model\n",
    "config_path = os.path.join(os.path.dirname(npz_path), \"hf_config.json\")\n",
    "print(f\"Loading config from {config_path}\")\n",
    "with open(config_path) as f:\n",
    "\tconfig_dict = json.load(f)\n",
    "config = transformers.PaliGemmaConfig(**config_dict)\n",
    "model = transformers.PaliGemmaForConditionalGeneration(config)\n",
    "print(f\"Loaded model from config: {config}\")\n",
    "\n",
    "\n",
    "for k,v in model.state_dict().items():\n",
    "\tif not k in params:\n",
    "\t\tprint(f\"WARNING: {k} not found in JAX checkpoint\")\n",
    "\t\tcontinue"
   ]
  },
  {
   "cell_type": "code",
   "execution_count": 6,
   "metadata": {},
   "outputs": [
    {
     "name": "stdout",
     "output_type": "stream",
     "text": [
      "Loading state dict into model\n",
      "Missing keys: []\n",
      "Unexpected keys: []\n",
      "Saving model to /data/austin/jax_ckpts\n"
     ]
    }
   ],
   "source": [
    "print(\"Loading state dict into model\")\n",
    "missing, unexpected = model.load_state_dict(params, strict=False)\n",
    "print(f\"Missing keys: {missing}\")\n",
    "print(f\"Unexpected keys: {unexpected}\")\n",
    "\n",
    "print(f\"Saving model to {args.output_dir}\")\n",
    "model.save_pretrained(args.output_dir)\n"
   ]
  },
  {
   "cell_type": "markdown",
   "metadata": {},
   "source": [
    "# Load model from safetensors"
   ]
  },
  {
   "cell_type": "code",
   "execution_count": null,
   "metadata": {},
   "outputs": [],
   "source": [
    "import torch\n",
    "import requests\n",
    "from PIL import Image\n",
    "import transformers\n",
    "\n",
    "model_path = \"/data/austin/jax_ckpts/cambrian_gemma_datacomp_recap-alt-10M+datacomp_recap-recap-10M+datacomp_dense-ram_owlvitv2_20250112-07-matched_mix-divdesF_divdetF_10epoch_01-19_0123\"\n",
    "model = transformers.PaliGemmaForConditionalGeneration.from_pretrained(model_path)\n",
    "refer_id = \"google/paligemma-3b-pt-224\"\n",
    "processor = transformers.PaliGemmaProcessor.from_pretrained(refer_id)\n",
    "# transformers.PaliGemmaProcessor.from_pretrained(model_path)\n",
    "processor.tokenizer.vocab_size, model.state_dict()[\"language_model.lm_head.weight\"].shape,model.state_dict()[\"language_model.model.embed_tokens.weight\"].shape\n"
   ]
  },
  {
   "cell_type": "code",
   "execution_count": null,
   "metadata": {},
   "outputs": [],
   "source": [
    "# change the lm_head to match the vocab size\n",
    "corrected_state_dict = model.state_dict()\n",
    "corrected_state_dict[\"language_model.lm_head.weight\"] = corrected_state_dict[\"language_model.lm_head.weight\"][:processor.tokenizer.vocab_size]\n",
    "corrected_state_dict[\"language_model.model.embed_tokens.weight\"] = corrected_state_dict[\"language_model.model.embed_tokens.weight\"][:processor.tokenizer.vocab_size]\n",
    "model.load_state_dict(corrected_state_dict)\n"
   ]
  },
  {
   "cell_type": "code",
   "execution_count": null,
   "metadata": {},
   "outputs": [],
   "source": [
    "url = \"https://huggingface.co/datasets/huggingface/documentation-images/resolve/main/transformers/tasks/car.jpg?download=true\"\n",
    "image = Image.open(requests.get(url, stream=True).raw)\n",
    "prompt = \"caption en\"\n",
    "model_inputs = processor(text=prompt, images=image, return_tensors=\"pt\")\n",
    "input_len = model_inputs[\"input_ids\"].shape[-1]"
   ]
  },
  {
   "cell_type": "code",
   "execution_count": null,
   "metadata": {},
   "outputs": [],
   "source": [
    "with torch.inference_mode():\n",
    "    generation = model.generate(**model_inputs, max_new_tokens=100, do_sample=False)\n",
    "    generation = generation[0][input_len:]\n",
    "    decoded = processor.decode(generation, skip_special_tokens=True)\n",
    "    print(decoded)\n"
   ]
  }
 ],
 "metadata": {
  "kernelspec": {
   "display_name": "jax",
   "language": "python",
   "name": "python3"
  },
  "language_info": {
   "codemirror_mode": {
    "name": "ipython",
    "version": 3
   },
   "file_extension": ".py",
   "mimetype": "text/x-python",
   "name": "python",
   "nbconvert_exporter": "python",
   "pygments_lexer": "ipython3",
   "version": "3.10.16"
  }
 },
 "nbformat": 4,
 "nbformat_minor": 2
}
